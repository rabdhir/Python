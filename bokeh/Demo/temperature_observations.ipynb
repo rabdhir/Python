{
 "cells": [
  {
   "cell_type": "code",
   "execution_count": 23,
   "metadata": {
    "collapsed": false
   },
   "outputs": [
    {
     "name": "stderr",
     "output_type": "stream",
     "text": [
      "INFO:bokeh.core.state:Session output file 'Scatter_charts.html' already exists, will be overwritten.\n"
     ]
    }
   ],
   "source": [
    "from bokeh.charts import Scatter, output_file, show\n",
    "import pandas\n",
    "\n",
    "df=pandas.DataFrame(columns=[\"X\",\"Y\"])\n",
    "df[\"X\"]=[1,2,3,4,5]\n",
    "df[\"Y\"]=[5,6,4,5,3]\n",
    "\n",
    "p=Scatter(df, x=\"X\", y=\"Y\", title=\"Temperature Observations\",xlabel=\"Day of observations\", ylabel=\"Temperature\")\n",
    "\n",
    "output_file(\"Scatter_charts.html\",mode='relative')\n",
    "\n",
    "show(p)"
   ]
  },
  {
   "cell_type": "code",
   "execution_count": 30,
   "metadata": {
    "collapsed": false
   },
   "outputs": [
    {
     "name": "stderr",
     "output_type": "stream",
     "text": [
      "d:\\apps\\python\\python35-32\\lib\\site-packages\\bokeh\\util\\deprecation.py:33: BokehDeprecationWarning: Setting Plot property 'title' using a string was deprecated in 0.12.0,\n",
      "            and will be removed. The title is now an object on Plot (which holds all of it's\n",
      "            styling properties). Please use Plot.title.text instead.\n",
      "\n",
      "            SERVER USERS: If you were using plot.title to have the server update the plot title\n",
      "            in a callback, you MUST update to plot.title.text as the title object cannot currently\n",
      "            be replaced after intialization.\n",
      "            \n",
      "  warn(message)\n",
      "d:\\apps\\python\\python35-32\\lib\\site-packages\\bokeh\\util\\deprecation.py:33: BokehDeprecationWarning: Plot.title_text_color was deprecated in Bokeh 0.12.0 and will be removed, use Plot.title.text_color instead.\n",
      "  warn(message)\n",
      "d:\\apps\\python\\python35-32\\lib\\site-packages\\bokeh\\util\\deprecation.py:33: BokehDeprecationWarning: Plot.title_text_font was deprecated in Bokeh 0.12.0 and will be removed, use Plot.title.text_font instead.\n",
      "  warn(message)\n",
      "d:\\apps\\python\\python35-32\\lib\\site-packages\\bokeh\\util\\deprecation.py:33: BokehDeprecationWarning: Plot.title_text_font_size was deprecated in Bokeh 0.12.0 and will be removed, use Plot.title.text_font_size instead.\n",
      "  warn(message)\n",
      "d:\\apps\\python\\python35-32\\lib\\site-packages\\bokeh\\util\\deprecation.py:33: BokehDeprecationWarning: Plot.title_text_font_style was deprecated in Bokeh 0.12.0 and will be removed, use Plot.title.text_font_style instead.\n",
      "  warn(message)\n",
      "INFO:bokeh.core.state:Session output file 'Scatter_plotting.html' already exists, will be overwritten.\n"
     ]
    }
   ],
   "source": [
    "from bokeh.plotting import figure, output_file, show \n",
    "\n",
    "p=figure(plot_width=500,plot_height=400,tools='pan,resize',logo=None)\n",
    "\n",
    "p.title=\"Earthquake\"\n",
    "p.title_text_color=\"Orange\"\n",
    "p.title_text_font=\"times\"\n",
    "p.title_text_font_size=\"30px\"\n",
    "p.title_text_font_style=\"italic\"\n",
    "\n",
    "p.yaxis.minor_tick_line_color=\"Yellow\"\n",
    "\n",
    "p.xaxis.axis_label=\"Times\"\n",
    "p.yaxis.axis_label=\"Values\"\n",
    "\n",
    "p.circle([1,2,3,4,5],[5,6,5,5,3],size=[i*2 for i in [4,8,12,16,20]],color=\"red\",alpha=0.5)\n",
    "\n",
    "output_file(\"Scatter_plotting.html\")\n",
    "\n",
    "show(p)"
   ]
  },
  {
   "cell_type": "code",
   "execution_count": 38,
   "metadata": {
    "collapsed": false
   },
   "outputs": [
    {
     "name": "stderr",
     "output_type": "stream",
     "text": [
      "d:\\apps\\python\\python35-32\\lib\\site-packages\\bokeh\\util\\deprecation.py:33: BokehDeprecationWarning: Setting Plot property 'title' using a string was deprecated in 0.12.0,\n",
      "            and will be removed. The title is now an object on Plot (which holds all of it's\n",
      "            styling properties). Please use Plot.title.text instead.\n",
      "\n",
      "            SERVER USERS: If you were using plot.title to have the server update the plot title\n",
      "            in a callback, you MUST update to plot.title.text as the title object cannot currently\n",
      "            be replaced after intialization.\n",
      "            \n",
      "  warn(message)\n",
      "d:\\apps\\python\\python35-32\\lib\\site-packages\\bokeh\\util\\deprecation.py:33: BokehDeprecationWarning: Plot.title_text_color was deprecated in Bokeh 0.12.0 and will be removed, use Plot.title.text_color instead.\n",
      "  warn(message)\n",
      "d:\\apps\\python\\python35-32\\lib\\site-packages\\bokeh\\util\\deprecation.py:33: BokehDeprecationWarning: Plot.title_text_font was deprecated in Bokeh 0.12.0 and will be removed, use Plot.title.text_font instead.\n",
      "  warn(message)\n",
      "d:\\apps\\python\\python35-32\\lib\\site-packages\\bokeh\\util\\deprecation.py:33: BokehDeprecationWarning: Plot.title_text_font_size was deprecated in Bokeh 0.12.0 and will be removed, use Plot.title.text_font_size instead.\n",
      "  warn(message)\n",
      "d:\\apps\\python\\python35-32\\lib\\site-packages\\bokeh\\util\\deprecation.py:33: BokehDeprecationWarning: Plot.title_text_font_style was deprecated in Bokeh 0.12.0 and will be removed, use Plot.title.text_font_style instead.\n",
      "  warn(message)\n",
      "INFO:bokeh.core.state:Session output file 'Scatter_plotting2.html' already exists, will be overwritten.\n"
     ]
    }
   ],
   "source": [
    "from bokeh.plotting import figure, output_file, show \n",
    "\n",
    "p=figure(plot_width=500,plot_height=400,tools='pan,resize',logo=None)\n",
    "\n",
    "p.title=\"Earthquake\"\n",
    "p.title_text_color=\"Orange\"\n",
    "p.title_text_font=\"times\"\n",
    "p.title_text_font_size=\"30px\"\n",
    "p.title_text_font_style=\"italic\"\n",
    "\n",
    "p.yaxis.minor_tick_line_color=\"Yellow\"\n",
    "\n",
    "p.xaxis.axis_label=\"Times\"\n",
    "p.yaxis.axis_label=\"Values\"\n",
    "\n",
    "p.line([1,2,3,4,5],[5,6,5,5,3],line_width=2,color=\"red\",alpha=0.5)\n",
    "p.circle([i*2 for i in [1,2,3,4,5]],[5,6,5,5,3],size=8,color=\"olive\",alpha=0.5)\n",
    "\n",
    "output_file(\"Scatter_plotting2.html\")\n",
    "\n",
    "show(p)"
   ]
  },
  {
   "cell_type": "code",
   "execution_count": 36,
   "metadata": {
    "collapsed": false
   },
   "outputs": [
    {
     "name": "stderr",
     "output_type": "stream",
     "text": [
      "INFO:bokeh.core.state:Session output file 'Timeseries.html' already exists, will be overwritten.\n"
     ]
    }
   ],
   "source": [
    "from bokeh.plotting import figure, output_file, show\n",
    "import pandas\n",
    "\n",
    "df=pandas.read_csv(\"http://ichart.yahoo.com/table.csv?s=AAPL&a=0&b=1&c=2000&d=0&e=1&f=2010\",parse_dates=[\"Date\"])\n",
    "\n",
    "p=figure(width=500,height=250,x_axis_type=\"datetime\",responsive=True)\n",
    "\n",
    "p.line(df[\"Date\"],df[\"Close\"],color=\"Orange\",alpha=0.5)\n",
    "\n",
    "output_file(\"Timeseries.html\")\n",
    "show(p)"
   ]
  }
 ],
 "metadata": {
  "kernelspec": {
   "display_name": "Python 3",
   "language": "python",
   "name": "python3"
  },
  "language_info": {
   "codemirror_mode": {
    "name": "ipython",
    "version": 3.0
   },
   "file_extension": ".py",
   "mimetype": "text/x-python",
   "name": "python",
   "nbconvert_exporter": "python",
   "pygments_lexer": "ipython3",
   "version": "3.5.2"
  }
 },
 "nbformat": 4,
 "nbformat_minor": 0
}